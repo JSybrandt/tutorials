{
  "nbformat": 4,
  "nbformat_minor": 0,
  "metadata": {
    "colab": {
      "name": "2020_04_17_spam_filter_1.ipynb",
      "provenance": [],
      "authorship_tag": "ABX9TyPV2p4Ds/d5ludQOPqoVJ0I",
      "include_colab_link": true
    },
    "kernelspec": {
      "name": "python3",
      "display_name": "Python 3"
    }
  },
  "cells": [
    {
      "cell_type": "markdown",
      "metadata": {
        "id": "view-in-github",
        "colab_type": "text"
      },
      "source": [
        "<a href=\"https://colab.research.google.com/github/JSybrandt/tutorials/blob/master/spam_filter/01_bag_of_words.ipynb\" target=\"_parent\"><img src=\"https://colab.research.google.com/assets/colab-badge.svg\" alt=\"Open In Colab\"/></a>"
      ]
    },
    {
      "cell_type": "markdown",
      "metadata": {
        "id": "nSPMgmkj9k80",
        "colab_type": "text"
      },
      "source": [
        "# Lets Build a Spam Filer\n",
        "\n",
        "In this notebook, I'm going to walk you through the very basics of "
      ]
    },
    {
      "cell_type": "code",
      "metadata": {
        "id": "H2P65sSb9V_n",
        "colab_type": "code",
        "colab": {}
      },
      "source": [
        ""
      ],
      "execution_count": 0,
      "outputs": []
    }
  ]
}