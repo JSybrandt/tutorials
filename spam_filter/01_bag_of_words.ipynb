{
  "nbformat": 4,
  "nbformat_minor": 0,
  "metadata": {
    "colab": {
      "name": "2020_04_17_spam_filter_1.ipynb",
      "provenance": [],
      "authorship_tag": "ABX9TyMbuf6g0e3VUnkQXrEVraRt",
      "include_colab_link": true
    },
    "kernelspec": {
      "name": "python3",
      "display_name": "Python 3"
    }
  },
  "cells": [
    {
      "cell_type": "markdown",
      "metadata": {
        "id": "view-in-github",
        "colab_type": "text"
      },
      "source": [
        "<a href=\"https://colab.research.google.com/github/JSybrandt/tutorials/blob/master/spam_filter/01_bag_of_words.ipynb\" target=\"_parent\"><img src=\"https://colab.research.google.com/assets/colab-badge.svg\" alt=\"Open In Colab\"/></a>"
      ]
    },
    {
      "cell_type": "markdown",
      "metadata": {
        "id": "nSPMgmkj9k80",
        "colab_type": "text"
      },
      "source": [
        "# Intro: Lets Build a Spam Filter!\n",
        "\n",
        "This notebook begins a series of tutorials covering the basics of machine\n",
        "learning (ML) and natural language processing (NLP). I'm going to do my best to\n",
        "start at the absolute basics and provide both the practical details necessary to\n",
        "actually build something fun, as well as the intuitive insights that underpin\n",
        "some of the choices that we're going to make along the way. In short, if you\n",
        "know a little python, and want to learn the ropes of ML and NLP, this notebook\n",
        "is for you!"
      ]
    },
    {
      "cell_type": "markdown",
      "metadata": {
        "id": "paM1M2P0C89n",
        "colab_type": "text"
      },
      "source": [
        "## What to Expect\n",
        "\n",
        "These tutorials are going to start at the most basic level of constructing a spam filter. We're going to use some simple and understandable methods and see that we get modest results. Then, we're going to iteratively inspect our solution and identify its shortcomings. One by one we are going to modify our initial assumptions and improve our solution.\n"
      ]
    },
    {
      "cell_type": "markdown",
      "metadata": {
        "id": "4lL7Co3PBYUR",
        "colab_type": "text"
      },
      "source": [
        "## Basics: Python Notebooks\n",
        "\n",
        "The interface you're looking at, Google _Colab_, is a python notebook. You might have seen these called _ipython_ or _jupyter_ notebooks. They're all more-or-less the same. Colab is interesting because it doesn't require that you actually install python youself, instead the code we're going to write here is run on Google servers somewhere.\n",
        "\n",
        "A notebook is comprised of cells, which contain either text or code. On the sidebar you should see a table of contents that can help you jump between different concepts.\n",
        "\n",
        "To edit a cell, double click. To run a cell, click it and press \\<SHIFT\\>+\\<ENTER\\>. Cells can be run in any order, but its normally expected that you're going to run the whole notebook top to bottom. If you just want to run everything, click \"Runtime > Run All.\"\n",
        "\n",
        "The next cell should be a simple \"hello world\""
      ]
    },
    {
      "cell_type": "code",
      "metadata": {
        "id": "H2P65sSb9V_n",
        "colab_type": "code",
        "colab": {}
      },
      "source": [
        ""
      ],
      "execution_count": 0,
      "outputs": []
    }
  ]
}